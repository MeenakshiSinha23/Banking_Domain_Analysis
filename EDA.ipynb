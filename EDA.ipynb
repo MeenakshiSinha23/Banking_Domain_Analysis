{
 "cells": [
  {
   "cell_type": "code",
   "execution_count": 9,
   "id": "44fddcb2",
   "metadata": {},
   "outputs": [],
   "source": [
    "import pandas as pd\n",
    "import matplotlib.pyplot as plt\n",
    "import seaborn as sns\n",
    "import numpy as np"
   ]
  },
  {
   "cell_type": "code",
   "execution_count": 13,
   "id": "50d4b86f",
   "metadata": {},
   "outputs": [
    {
     "data": {
      "text/html": [
       "<div>\n",
       "<style scoped>\n",
       "    .dataframe tbody tr th:only-of-type {\n",
       "        vertical-align: middle;\n",
       "    }\n",
       "\n",
       "    .dataframe tbody tr th {\n",
       "        vertical-align: top;\n",
       "    }\n",
       "\n",
       "    .dataframe thead th {\n",
       "        text-align: right;\n",
       "    }\n",
       "</style>\n",
       "<table border=\"1\" class=\"dataframe\">\n",
       "  <thead>\n",
       "    <tr style=\"text-align: right;\">\n",
       "      <th></th>\n",
       "      <th>Client ID</th>\n",
       "      <th>Name</th>\n",
       "      <th>Age</th>\n",
       "      <th>Location ID</th>\n",
       "      <th>Joined Bank</th>\n",
       "      <th>Banking Contact</th>\n",
       "      <th>Nationality</th>\n",
       "      <th>Occupation</th>\n",
       "      <th>Fee Structure</th>\n",
       "      <th>Loyalty Classification</th>\n",
       "      <th>...</th>\n",
       "      <th>Bank Deposits</th>\n",
       "      <th>Checking Accounts</th>\n",
       "      <th>Saving Accounts</th>\n",
       "      <th>Foreign Currency Account</th>\n",
       "      <th>Business Lending</th>\n",
       "      <th>Properties Owned</th>\n",
       "      <th>Risk Weighting</th>\n",
       "      <th>BRId</th>\n",
       "      <th>GenderId</th>\n",
       "      <th>IAId</th>\n",
       "    </tr>\n",
       "  </thead>\n",
       "  <tbody>\n",
       "    <tr>\n",
       "      <th>0</th>\n",
       "      <td>IND81288</td>\n",
       "      <td>Raymond Mills</td>\n",
       "      <td>24</td>\n",
       "      <td>34324</td>\n",
       "      <td>06-05-2019</td>\n",
       "      <td>Anthony Torres</td>\n",
       "      <td>American</td>\n",
       "      <td>Safety Technician IV</td>\n",
       "      <td>High</td>\n",
       "      <td>Jade</td>\n",
       "      <td>...</td>\n",
       "      <td>1485828.64</td>\n",
       "      <td>603617.88</td>\n",
       "      <td>607332.46</td>\n",
       "      <td>12249.96</td>\n",
       "      <td>1134475.30</td>\n",
       "      <td>1</td>\n",
       "      <td>2</td>\n",
       "      <td>1</td>\n",
       "      <td>1</td>\n",
       "      <td>1</td>\n",
       "    </tr>\n",
       "    <tr>\n",
       "      <th>1</th>\n",
       "      <td>IND65833</td>\n",
       "      <td>Julia Spencer</td>\n",
       "      <td>23</td>\n",
       "      <td>42205</td>\n",
       "      <td>10-12-2001</td>\n",
       "      <td>Jonathan Hawkins</td>\n",
       "      <td>African</td>\n",
       "      <td>Software Consultant</td>\n",
       "      <td>High</td>\n",
       "      <td>Jade</td>\n",
       "      <td>...</td>\n",
       "      <td>641482.79</td>\n",
       "      <td>229521.37</td>\n",
       "      <td>344635.16</td>\n",
       "      <td>61162.31</td>\n",
       "      <td>2000526.10</td>\n",
       "      <td>1</td>\n",
       "      <td>3</td>\n",
       "      <td>2</td>\n",
       "      <td>1</td>\n",
       "      <td>2</td>\n",
       "    </tr>\n",
       "    <tr>\n",
       "      <th>2</th>\n",
       "      <td>IND47499</td>\n",
       "      <td>Stephen Murray</td>\n",
       "      <td>27</td>\n",
       "      <td>7314</td>\n",
       "      <td>25-01-2010</td>\n",
       "      <td>Anthony Berry</td>\n",
       "      <td>European</td>\n",
       "      <td>Help Desk Operator</td>\n",
       "      <td>High</td>\n",
       "      <td>Gold</td>\n",
       "      <td>...</td>\n",
       "      <td>1033401.59</td>\n",
       "      <td>652674.69</td>\n",
       "      <td>203054.35</td>\n",
       "      <td>79071.78</td>\n",
       "      <td>548137.58</td>\n",
       "      <td>1</td>\n",
       "      <td>3</td>\n",
       "      <td>3</td>\n",
       "      <td>2</td>\n",
       "      <td>3</td>\n",
       "    </tr>\n",
       "    <tr>\n",
       "      <th>3</th>\n",
       "      <td>IND72498</td>\n",
       "      <td>Virginia Garza</td>\n",
       "      <td>40</td>\n",
       "      <td>34594</td>\n",
       "      <td>28-03-2019</td>\n",
       "      <td>Steve Diaz</td>\n",
       "      <td>American</td>\n",
       "      <td>Geologist II</td>\n",
       "      <td>Mid</td>\n",
       "      <td>Silver</td>\n",
       "      <td>...</td>\n",
       "      <td>1048157.49</td>\n",
       "      <td>1048157.49</td>\n",
       "      <td>234685.02</td>\n",
       "      <td>57513.65</td>\n",
       "      <td>1148402.29</td>\n",
       "      <td>0</td>\n",
       "      <td>4</td>\n",
       "      <td>4</td>\n",
       "      <td>1</td>\n",
       "      <td>4</td>\n",
       "    </tr>\n",
       "    <tr>\n",
       "      <th>4</th>\n",
       "      <td>IND60181</td>\n",
       "      <td>Melissa Sanders</td>\n",
       "      <td>46</td>\n",
       "      <td>41269</td>\n",
       "      <td>20-07-2012</td>\n",
       "      <td>Shawn Long</td>\n",
       "      <td>American</td>\n",
       "      <td>Assistant Professor</td>\n",
       "      <td>Mid</td>\n",
       "      <td>Platinum</td>\n",
       "      <td>...</td>\n",
       "      <td>487782.53</td>\n",
       "      <td>446644.25</td>\n",
       "      <td>128351.45</td>\n",
       "      <td>30012.14</td>\n",
       "      <td>1674412.12</td>\n",
       "      <td>0</td>\n",
       "      <td>3</td>\n",
       "      <td>1</td>\n",
       "      <td>2</td>\n",
       "      <td>5</td>\n",
       "    </tr>\n",
       "  </tbody>\n",
       "</table>\n",
       "<p>5 rows × 25 columns</p>\n",
       "</div>"
      ],
      "text/plain": [
       "  Client ID             Name  Age  Location ID Joined Bank   Banking Contact  \\\n",
       "0  IND81288    Raymond Mills   24        34324  06-05-2019    Anthony Torres   \n",
       "1  IND65833    Julia Spencer   23        42205  10-12-2001  Jonathan Hawkins   \n",
       "2  IND47499   Stephen Murray   27         7314  25-01-2010     Anthony Berry   \n",
       "3  IND72498   Virginia Garza   40        34594  28-03-2019        Steve Diaz   \n",
       "4  IND60181  Melissa Sanders   46        41269  20-07-2012        Shawn Long   \n",
       "\n",
       "  Nationality            Occupation Fee Structure Loyalty Classification  ...  \\\n",
       "0    American  Safety Technician IV          High                   Jade  ...   \n",
       "1     African   Software Consultant          High                   Jade  ...   \n",
       "2    European    Help Desk Operator          High                   Gold  ...   \n",
       "3    American          Geologist II           Mid                 Silver  ...   \n",
       "4    American   Assistant Professor           Mid               Platinum  ...   \n",
       "\n",
       "   Bank Deposits  Checking Accounts  Saving Accounts  \\\n",
       "0     1485828.64          603617.88        607332.46   \n",
       "1      641482.79          229521.37        344635.16   \n",
       "2     1033401.59          652674.69        203054.35   \n",
       "3     1048157.49         1048157.49        234685.02   \n",
       "4      487782.53          446644.25        128351.45   \n",
       "\n",
       "   Foreign Currency Account  Business Lending  Properties Owned  \\\n",
       "0                  12249.96        1134475.30                 1   \n",
       "1                  61162.31        2000526.10                 1   \n",
       "2                  79071.78         548137.58                 1   \n",
       "3                  57513.65        1148402.29                 0   \n",
       "4                  30012.14        1674412.12                 0   \n",
       "\n",
       "   Risk Weighting  BRId  GenderId  IAId  \n",
       "0               2     1         1     1  \n",
       "1               3     2         1     2  \n",
       "2               3     3         2     3  \n",
       "3               4     4         1     4  \n",
       "4               3     1         2     5  \n",
       "\n",
       "[5 rows x 25 columns]"
      ]
     },
     "execution_count": 13,
     "metadata": {},
     "output_type": "execute_result"
    }
   ],
   "source": [
    "df=pd.read_csv('banking-clients.csv')\n",
    "df.head()"
   ]
  },
  {
   "cell_type": "code",
   "execution_count": 14,
   "id": "f6faf143",
   "metadata": {},
   "outputs": [
    {
     "data": {
      "text/plain": [
       "(3000, 25)"
      ]
     },
     "execution_count": 14,
     "metadata": {},
     "output_type": "execute_result"
    }
   ],
   "source": [
    "df.shape"
   ]
  },
  {
   "cell_type": "code",
   "execution_count": 15,
   "id": "5f1489d1",
   "metadata": {},
   "outputs": [
    {
     "name": "stdout",
     "output_type": "stream",
     "text": [
      "<class 'pandas.core.frame.DataFrame'>\n",
      "RangeIndex: 3000 entries, 0 to 2999\n",
      "Data columns (total 25 columns):\n",
      " #   Column                    Non-Null Count  Dtype  \n",
      "---  ------                    --------------  -----  \n",
      " 0   Client ID                 3000 non-null   object \n",
      " 1   Name                      3000 non-null   object \n",
      " 2   Age                       3000 non-null   int64  \n",
      " 3   Location ID               3000 non-null   int64  \n",
      " 4   Joined Bank               3000 non-null   object \n",
      " 5   Banking Contact           3000 non-null   object \n",
      " 6   Nationality               3000 non-null   object \n",
      " 7   Occupation                3000 non-null   object \n",
      " 8   Fee Structure             3000 non-null   object \n",
      " 9   Loyalty Classification    3000 non-null   object \n",
      " 10  Estimated Income          3000 non-null   float64\n",
      " 11  Superannuation Savings    3000 non-null   float64\n",
      " 12  Amount of Credit Cards    3000 non-null   int64  \n",
      " 13  Credit Card Balance       3000 non-null   float64\n",
      " 14  Bank Loans                3000 non-null   float64\n",
      " 15  Bank Deposits             3000 non-null   float64\n",
      " 16  Checking Accounts         3000 non-null   float64\n",
      " 17  Saving Accounts           3000 non-null   float64\n",
      " 18  Foreign Currency Account  3000 non-null   float64\n",
      " 19  Business Lending          3000 non-null   float64\n",
      " 20  Properties Owned          3000 non-null   int64  \n",
      " 21  Risk Weighting            3000 non-null   int64  \n",
      " 22  BRId                      3000 non-null   int64  \n",
      " 23  GenderId                  3000 non-null   int64  \n",
      " 24  IAId                      3000 non-null   int64  \n",
      "dtypes: float64(9), int64(8), object(8)\n",
      "memory usage: 586.1+ KB\n"
     ]
    }
   ],
   "source": [
    "df.info()"
   ]
  },
  {
   "cell_type": "code",
   "execution_count": 16,
   "id": "b9a04660",
   "metadata": {},
   "outputs": [
    {
     "data": {
      "text/html": [
       "<div>\n",
       "<style scoped>\n",
       "    .dataframe tbody tr th:only-of-type {\n",
       "        vertical-align: middle;\n",
       "    }\n",
       "\n",
       "    .dataframe tbody tr th {\n",
       "        vertical-align: top;\n",
       "    }\n",
       "\n",
       "    .dataframe thead th {\n",
       "        text-align: right;\n",
       "    }\n",
       "</style>\n",
       "<table border=\"1\" class=\"dataframe\">\n",
       "  <thead>\n",
       "    <tr style=\"text-align: right;\">\n",
       "      <th></th>\n",
       "      <th>Age</th>\n",
       "      <th>Location ID</th>\n",
       "      <th>Estimated Income</th>\n",
       "      <th>Superannuation Savings</th>\n",
       "      <th>Amount of Credit Cards</th>\n",
       "      <th>Credit Card Balance</th>\n",
       "      <th>Bank Loans</th>\n",
       "      <th>Bank Deposits</th>\n",
       "      <th>Checking Accounts</th>\n",
       "      <th>Saving Accounts</th>\n",
       "      <th>Foreign Currency Account</th>\n",
       "      <th>Business Lending</th>\n",
       "      <th>Properties Owned</th>\n",
       "      <th>Risk Weighting</th>\n",
       "      <th>BRId</th>\n",
       "      <th>GenderId</th>\n",
       "      <th>IAId</th>\n",
       "    </tr>\n",
       "  </thead>\n",
       "  <tbody>\n",
       "    <tr>\n",
       "      <th>count</th>\n",
       "      <td>3000.000000</td>\n",
       "      <td>3000.000000</td>\n",
       "      <td>3000.000000</td>\n",
       "      <td>3000.000000</td>\n",
       "      <td>3000.000000</td>\n",
       "      <td>3000.000000</td>\n",
       "      <td>3.000000e+03</td>\n",
       "      <td>3.000000e+03</td>\n",
       "      <td>3.000000e+03</td>\n",
       "      <td>3.000000e+03</td>\n",
       "      <td>3000.000000</td>\n",
       "      <td>3.000000e+03</td>\n",
       "      <td>3000.000000</td>\n",
       "      <td>3000.000000</td>\n",
       "      <td>3000.000000</td>\n",
       "      <td>3000.000000</td>\n",
       "      <td>3000.000000</td>\n",
       "    </tr>\n",
       "    <tr>\n",
       "      <th>mean</th>\n",
       "      <td>51.039667</td>\n",
       "      <td>21563.323000</td>\n",
       "      <td>171305.034263</td>\n",
       "      <td>25531.599673</td>\n",
       "      <td>1.463667</td>\n",
       "      <td>3176.206943</td>\n",
       "      <td>5.913862e+05</td>\n",
       "      <td>6.715602e+05</td>\n",
       "      <td>3.210929e+05</td>\n",
       "      <td>2.329084e+05</td>\n",
       "      <td>29883.529993</td>\n",
       "      <td>8.667598e+05</td>\n",
       "      <td>1.518667</td>\n",
       "      <td>2.249333</td>\n",
       "      <td>2.559333</td>\n",
       "      <td>1.504000</td>\n",
       "      <td>10.425333</td>\n",
       "    </tr>\n",
       "    <tr>\n",
       "      <th>std</th>\n",
       "      <td>19.854760</td>\n",
       "      <td>12462.273017</td>\n",
       "      <td>111935.808209</td>\n",
       "      <td>16259.950770</td>\n",
       "      <td>0.676387</td>\n",
       "      <td>2497.094709</td>\n",
       "      <td>4.575570e+05</td>\n",
       "      <td>6.457169e+05</td>\n",
       "      <td>2.820796e+05</td>\n",
       "      <td>2.300078e+05</td>\n",
       "      <td>23109.924010</td>\n",
       "      <td>6.412303e+05</td>\n",
       "      <td>1.102145</td>\n",
       "      <td>1.131191</td>\n",
       "      <td>1.007713</td>\n",
       "      <td>0.500067</td>\n",
       "      <td>5.988242</td>\n",
       "    </tr>\n",
       "    <tr>\n",
       "      <th>min</th>\n",
       "      <td>17.000000</td>\n",
       "      <td>12.000000</td>\n",
       "      <td>15919.480000</td>\n",
       "      <td>1482.030000</td>\n",
       "      <td>1.000000</td>\n",
       "      <td>1.170000</td>\n",
       "      <td>0.000000e+00</td>\n",
       "      <td>0.000000e+00</td>\n",
       "      <td>0.000000e+00</td>\n",
       "      <td>0.000000e+00</td>\n",
       "      <td>45.000000</td>\n",
       "      <td>0.000000e+00</td>\n",
       "      <td>0.000000</td>\n",
       "      <td>1.000000</td>\n",
       "      <td>1.000000</td>\n",
       "      <td>1.000000</td>\n",
       "      <td>1.000000</td>\n",
       "    </tr>\n",
       "    <tr>\n",
       "      <th>25%</th>\n",
       "      <td>34.000000</td>\n",
       "      <td>10803.500000</td>\n",
       "      <td>82906.595000</td>\n",
       "      <td>12513.775000</td>\n",
       "      <td>1.000000</td>\n",
       "      <td>1236.630000</td>\n",
       "      <td>2.396281e+05</td>\n",
       "      <td>2.044004e+05</td>\n",
       "      <td>1.199475e+05</td>\n",
       "      <td>7.479440e+04</td>\n",
       "      <td>11916.542500</td>\n",
       "      <td>3.748251e+05</td>\n",
       "      <td>1.000000</td>\n",
       "      <td>1.000000</td>\n",
       "      <td>2.000000</td>\n",
       "      <td>1.000000</td>\n",
       "      <td>5.000000</td>\n",
       "    </tr>\n",
       "    <tr>\n",
       "      <th>50%</th>\n",
       "      <td>51.000000</td>\n",
       "      <td>21129.500000</td>\n",
       "      <td>142313.480000</td>\n",
       "      <td>22357.355000</td>\n",
       "      <td>1.000000</td>\n",
       "      <td>2560.805000</td>\n",
       "      <td>4.797934e+05</td>\n",
       "      <td>4.633165e+05</td>\n",
       "      <td>2.428157e+05</td>\n",
       "      <td>1.640866e+05</td>\n",
       "      <td>24341.190000</td>\n",
       "      <td>7.113147e+05</td>\n",
       "      <td>2.000000</td>\n",
       "      <td>2.000000</td>\n",
       "      <td>3.000000</td>\n",
       "      <td>2.000000</td>\n",
       "      <td>10.000000</td>\n",
       "    </tr>\n",
       "    <tr>\n",
       "      <th>75%</th>\n",
       "      <td>69.000000</td>\n",
       "      <td>32054.500000</td>\n",
       "      <td>242290.305000</td>\n",
       "      <td>35464.740000</td>\n",
       "      <td>2.000000</td>\n",
       "      <td>4522.632500</td>\n",
       "      <td>8.258130e+05</td>\n",
       "      <td>9.427546e+05</td>\n",
       "      <td>4.348749e+05</td>\n",
       "      <td>3.155750e+05</td>\n",
       "      <td>41966.392500</td>\n",
       "      <td>1.185110e+06</td>\n",
       "      <td>2.000000</td>\n",
       "      <td>3.000000</td>\n",
       "      <td>3.000000</td>\n",
       "      <td>2.000000</td>\n",
       "      <td>15.000000</td>\n",
       "    </tr>\n",
       "    <tr>\n",
       "      <th>max</th>\n",
       "      <td>85.000000</td>\n",
       "      <td>43369.000000</td>\n",
       "      <td>522330.260000</td>\n",
       "      <td>75963.900000</td>\n",
       "      <td>3.000000</td>\n",
       "      <td>13991.990000</td>\n",
       "      <td>2.667557e+06</td>\n",
       "      <td>3.890598e+06</td>\n",
       "      <td>1.969923e+06</td>\n",
       "      <td>1.724118e+06</td>\n",
       "      <td>124704.870000</td>\n",
       "      <td>3.825962e+06</td>\n",
       "      <td>3.000000</td>\n",
       "      <td>5.000000</td>\n",
       "      <td>4.000000</td>\n",
       "      <td>2.000000</td>\n",
       "      <td>22.000000</td>\n",
       "    </tr>\n",
       "  </tbody>\n",
       "</table>\n",
       "</div>"
      ],
      "text/plain": [
       "               Age   Location ID  Estimated Income  Superannuation Savings  \\\n",
       "count  3000.000000   3000.000000       3000.000000             3000.000000   \n",
       "mean     51.039667  21563.323000     171305.034263            25531.599673   \n",
       "std      19.854760  12462.273017     111935.808209            16259.950770   \n",
       "min      17.000000     12.000000      15919.480000             1482.030000   \n",
       "25%      34.000000  10803.500000      82906.595000            12513.775000   \n",
       "50%      51.000000  21129.500000     142313.480000            22357.355000   \n",
       "75%      69.000000  32054.500000     242290.305000            35464.740000   \n",
       "max      85.000000  43369.000000     522330.260000            75963.900000   \n",
       "\n",
       "       Amount of Credit Cards  Credit Card Balance    Bank Loans  \\\n",
       "count             3000.000000          3000.000000  3.000000e+03   \n",
       "mean                 1.463667          3176.206943  5.913862e+05   \n",
       "std                  0.676387          2497.094709  4.575570e+05   \n",
       "min                  1.000000             1.170000  0.000000e+00   \n",
       "25%                  1.000000          1236.630000  2.396281e+05   \n",
       "50%                  1.000000          2560.805000  4.797934e+05   \n",
       "75%                  2.000000          4522.632500  8.258130e+05   \n",
       "max                  3.000000         13991.990000  2.667557e+06   \n",
       "\n",
       "       Bank Deposits  Checking Accounts  Saving Accounts  \\\n",
       "count   3.000000e+03       3.000000e+03     3.000000e+03   \n",
       "mean    6.715602e+05       3.210929e+05     2.329084e+05   \n",
       "std     6.457169e+05       2.820796e+05     2.300078e+05   \n",
       "min     0.000000e+00       0.000000e+00     0.000000e+00   \n",
       "25%     2.044004e+05       1.199475e+05     7.479440e+04   \n",
       "50%     4.633165e+05       2.428157e+05     1.640866e+05   \n",
       "75%     9.427546e+05       4.348749e+05     3.155750e+05   \n",
       "max     3.890598e+06       1.969923e+06     1.724118e+06   \n",
       "\n",
       "       Foreign Currency Account  Business Lending  Properties Owned  \\\n",
       "count               3000.000000      3.000000e+03       3000.000000   \n",
       "mean               29883.529993      8.667598e+05          1.518667   \n",
       "std                23109.924010      6.412303e+05          1.102145   \n",
       "min                   45.000000      0.000000e+00          0.000000   \n",
       "25%                11916.542500      3.748251e+05          1.000000   \n",
       "50%                24341.190000      7.113147e+05          2.000000   \n",
       "75%                41966.392500      1.185110e+06          2.000000   \n",
       "max               124704.870000      3.825962e+06          3.000000   \n",
       "\n",
       "       Risk Weighting         BRId     GenderId         IAId  \n",
       "count     3000.000000  3000.000000  3000.000000  3000.000000  \n",
       "mean         2.249333     2.559333     1.504000    10.425333  \n",
       "std          1.131191     1.007713     0.500067     5.988242  \n",
       "min          1.000000     1.000000     1.000000     1.000000  \n",
       "25%          1.000000     2.000000     1.000000     5.000000  \n",
       "50%          2.000000     3.000000     2.000000    10.000000  \n",
       "75%          3.000000     3.000000     2.000000    15.000000  \n",
       "max          5.000000     4.000000     2.000000    22.000000  "
      ]
     },
     "execution_count": 16,
     "metadata": {},
     "output_type": "execute_result"
    }
   ],
   "source": [
    "df.describe()"
   ]
  },
  {
   "cell_type": "code",
   "execution_count": 19,
   "id": "0f31258f",
   "metadata": {},
   "outputs": [
    {
     "data": {
      "text/plain": [
       "Estimated Income\n",
       "56826.53     1\n",
       "75384.77     1\n",
       "289834.31    1\n",
       "169935.23    1\n",
       "356808.11    1\n",
       "            ..\n",
       "87019.73     1\n",
       "246615.84    1\n",
       "130023.36    1\n",
       "82703.81     1\n",
       "137256.09    1\n",
       "Name: count, Length: 3000, dtype: int64"
      ]
     },
     "execution_count": 19,
     "metadata": {},
     "output_type": "execute_result"
    }
   ],
   "source": [
    "df['Estimated Income'].value_counts()"
   ]
  },
  {
   "cell_type": "code",
   "execution_count": 22,
   "id": "7b16c84f",
   "metadata": {},
   "outputs": [],
   "source": [
    "bins = [0, 100000, 300000, float('inf')]\n",
    "labels = ['Low', 'Med', 'High']\n",
    "\n",
    "df['Income Band'] = pd.cut(df['Estimated Income'], bins=bins, labels=labels, right=False)\n"
   ]
  },
  {
   "cell_type": "code",
   "execution_count": 25,
   "id": "077cd145",
   "metadata": {},
   "outputs": [
    {
     "data": {
      "text/plain": [
       "<Axes: xlabel='Income Band'>"
      ]
     },
     "execution_count": 25,
     "metadata": {},
     "output_type": "execute_result"
    },
    {
     "data": {
      "image/png": "[encoded data removed]",
      "text/plain": [
       "<Figure size 640x480 with 1 Axes>"
      ]
     },
     "metadata": {},
     "output_type": "display_data"
    }
   ],
   "source": [
    "df['Income Band'].value_counts().plot(kind='bar')"
   ]
  },
  {
   "cell_type": "markdown",
   "id": "a9f1b8f3",
   "metadata": {},
   "source": [
    "examine the distribution of unique categories un categorical columns"
   ]
  },
  {
   "cell_type": "code",
   "execution_count": 30,
   "id": "27391120",
   "metadata": {},
   "outputs": [
    {
     "name": "stdout",
     "output_type": "stream",
     "text": [
      "Value Counts for 'BRId':\n"
     ]
    },
    {
     "data": {
      "text/plain": [
       "BRId\n",
       "3    1352\n",
       "1     660\n",
       "2     495\n",
       "4     493\n",
       "Name: count, dtype: int64"
      ]
     },
     "metadata": {},
     "output_type": "display_data"
    },
    {
     "name": "stdout",
     "output_type": "stream",
     "text": [
      "Value Counts for 'GenderId':\n"
     ]
    },
    {
     "data": {
      "text/plain": [
       "GenderId\n",
       "2    1512\n",
       "1    1488\n",
       "Name: count, dtype: int64"
      ]
     },
     "metadata": {},
     "output_type": "display_data"
    },
    {
     "name": "stdout",
     "output_type": "stream",
     "text": [
      "Value Counts for 'IAId':\n"
     ]
    },
    {
     "data": {
      "text/plain": [
       "IAId\n",
       "1     177\n",
       "2     177\n",
       "3     177\n",
       "4     177\n",
       "8     177\n",
       "9     176\n",
       "13    176\n",
       "12    176\n",
       "10    176\n",
       "11    176\n",
       "14    176\n",
       "15    176\n",
       "6      89\n",
       "5      89\n",
       "7      89\n",
       "16     88\n",
       "17     88\n",
       "18     88\n",
       "19     88\n",
       "20     88\n",
       "21     88\n",
       "22     88\n",
       "Name: count, dtype: int64"
      ]
     },
     "metadata": {},
     "output_type": "display_data"
    },
    {
     "name": "stdout",
     "output_type": "stream",
     "text": [
      "Value Counts for 'Amount of Credit Cards':\n"
     ]
    },
    {
     "data": {
      "text/plain": [
       "Amount of Credit Cards\n",
       "1    1922\n",
       "2     765\n",
       "3     313\n",
       "Name: count, dtype: int64"
      ]
     },
     "metadata": {},
     "output_type": "display_data"
    },
    {
     "name": "stdout",
     "output_type": "stream",
     "text": [
      "Value Counts for 'Nationality':\n"
     ]
    },
    {
     "data": {
      "text/plain": [
       "Nationality\n",
       "European      1309\n",
       "Asian          754\n",
       "American       507\n",
       "Australian     254\n",
       "African        176\n",
       "Name: count, dtype: int64"
      ]
     },
     "metadata": {},
     "output_type": "display_data"
    },
    {
     "name": "stdout",
     "output_type": "stream",
     "text": [
      "Value Counts for 'Occupation':\n"
     ]
    },
    {
     "data": {
      "text/plain": [
       "Occupation\n",
       "Associate Professor             28\n",
       "Structural Analysis Engineer    28\n",
       "Recruiter                       25\n",
       "Account Coordinator             24\n",
       "Human Resources Manager         24\n",
       "                                ..\n",
       "Office Assistant IV              8\n",
       "Automation Specialist I          7\n",
       "Computer Systems Analyst I       6\n",
       "Developer III                    5\n",
       "Senior Sales Associate           4\n",
       "Name: count, Length: 195, dtype: int64"
      ]
     },
     "metadata": {},
     "output_type": "display_data"
    },
    {
     "name": "stdout",
     "output_type": "stream",
     "text": [
      "Value Counts for 'Fee Structure':\n"
     ]
    },
    {
     "data": {
      "text/plain": [
       "Fee Structure\n",
       "High    1476\n",
       "Mid      962\n",
       "Low      562\n",
       "Name: count, dtype: int64"
      ]
     },
     "metadata": {},
     "output_type": "display_data"
    },
    {
     "name": "stdout",
     "output_type": "stream",
     "text": [
      "Value Counts for 'Loyalty Classification':\n"
     ]
    },
    {
     "data": {
      "text/plain": [
       "Loyalty Classification\n",
       "Jade        1331\n",
       "Silver       767\n",
       "Gold         585\n",
       "Platinum     317\n",
       "Name: count, dtype: int64"
      ]
     },
     "metadata": {},
     "output_type": "display_data"
    },
    {
     "name": "stdout",
     "output_type": "stream",
     "text": [
      "Value Counts for 'Properties Owned':\n"
     ]
    },
    {
     "data": {
      "text/plain": [
       "Properties Owned\n",
       "2    777\n",
       "1    776\n",
       "3    742\n",
       "0    705\n",
       "Name: count, dtype: int64"
      ]
     },
     "metadata": {},
     "output_type": "display_data"
    },
    {
     "name": "stdout",
     "output_type": "stream",
     "text": [
      "Value Counts for 'Risk Weighting':\n"
     ]
    },
    {
     "data": {
      "text/plain": [
       "Risk Weighting\n",
       "2    1222\n",
       "1     836\n",
       "3     460\n",
       "4     322\n",
       "5     160\n",
       "Name: count, dtype: int64"
      ]
     },
     "metadata": {},
     "output_type": "display_data"
    },
    {
     "name": "stdout",
     "output_type": "stream",
     "text": [
      "Value Counts for 'Income Band':\n"
     ]
    },
    {
     "data": {
      "text/plain": [
       "Income Band\n",
       "Med     1517\n",
       "Low     1027\n",
       "High     456\n",
       "Name: count, dtype: int64"
      ]
     },
     "metadata": {},
     "output_type": "display_data"
    }
   ],
   "source": [
    "# Examine the distribution of unique cataegories in categorical columns\n",
    "categorical_cols = df[[\"BRId\", \"GenderId\", \"IAId\", \"Amount of Credit Cards\", \"Nationality\", \"Occupation\", \"Fee Structure\", \"Loyalty Classification\", \"Properties Owned\", \"Risk Weighting\", \"Income Band\"]].columns\n",
    "\n",
    "for col in categorical_cols:\n",
    "  print(f\"Value Counts for '{col}':\")\n",
    "  display(df[col].value_counts())"
   ]
  }
 ],
 "metadata": {
  "kernelspec": {
   "display_name": "Python 3",
   "language": "python",
   "name": "python3"
  },
  "language_info": {
   "codemirror_mode": {
    "name": "ipython",
    "version": 3
   },
   "file_extension": ".py",
   "mimetype": "text/x-python",
   "name": "python",
   "nbconvert_exporter": "python",
   "pygments_lexer": "ipython3",
   "version": "3.12.6"
  }
 },
 "nbformat": 4,
 "nbformat_minor": 5
}
